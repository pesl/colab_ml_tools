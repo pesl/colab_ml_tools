{
  "nbformat": 4,
  "nbformat_minor": 0,
  "metadata": {
    "colab": {
      "name": "DS_PythonBasics.ipynb",
      "version": "0.3.2",
      "provenance": [],
      "include_colab_link": true
    },
    "language_info": {
      "codemirror_mode": {
        "name": "ipython",
        "version": 3
      },
      "file_extension": ".py",
      "mimetype": "text/x-python",
      "name": "python",
      "nbconvert_exporter": "python",
      "pygments_lexer": "ipython3",
      "version": "3.6.8"
    },
    "kernelspec": {
      "display_name": "Python 3",
      "language": "python",
      "name": "python3"
    }
  },
  "cells": [
    {
      "cell_type": "markdown",
      "metadata": {
        "id": "view-in-github",
        "colab_type": "text"
      },
      "source": [
        "<a href=\"https://colab.research.google.com/github/pesl/colab_ml_tools/blob/master/DS_PythonBasics.ipynb\" target=\"_parent\"><img src=\"https://colab.research.google.com/assets/colab-badge.svg\" alt=\"Open In Colab\"/></a>"
      ]
    },
    {
      "cell_type": "markdown",
      "metadata": {
        "id": "ftNiqhYD4-Ax",
        "colab_type": "text"
      },
      "source": [
        "Learn Data Science:\n",
        "\n",
        "https://www.youtube.com/watch?v=eTxyviU0Ddo&t=273s\n",
        "\n",
        "\n",
        "PYTHON BASICS\n",
        "Introduction to Python, The Scientific Libraries, Advanced Python Programming and the Pandas Section of Data and Empirics https://lectures.quantecon.org/py/\n",
        "\n",
        "Chapters 1 - 4 in this book https://github.com/jakevdp/PythonDataScienceHandbook/blob/8a34a4f653bdbdc01415a94dc20d4e9b97438965/notebooks/Index.ipynb\n",
        "\n",
        "Then this Pandas tutorial https://pandas.pydata.org/pandas-docs/stable/getting_started/10min.html\n",
        "\n",
        "Here are some excellent pandas code examples https://github.com/wesm/pydata-book"
      ]
    },
    {
      "cell_type": "code",
      "metadata": {
        "id": "T5qlaHwU4-Az",
        "colab_type": "code",
        "colab": {}
      },
      "source": [
        "from IPython.display import HTML\n",
        "\n",
        "# Youtube\n",
        "#HTML('<iframe width=\"560\" height=\"315\" src=\"https://www.youtube.com/embed/S_f2qV2_U00?rel=0&amp;controls=0&amp;showinfo=0\" frameborder=\"0\" allowfullscreen></iframe>')"
      ],
      "execution_count": 0,
      "outputs": []
    },
    {
      "cell_type": "markdown",
      "metadata": {
        "id": "kYv2Juth9tQu",
        "colab_type": "text"
      },
      "source": [
        "JvdPlas:  Chapter1\n",
        "\n",
        "For Python:  https://github.com/jakevdp/WhirlwindTourOfPython\n",
        "\n",
        "Interesting notebooks:  https://github.com/jupyter/jupyter/wiki/A-gallery-of-interesting-Jupyter-Notebooks\n"
      ]
    },
    {
      "cell_type": "code",
      "metadata": {
        "id": "EUvBt8X8PWEz",
        "colab_type": "code",
        "colab": {
          "base_uri": "https://localhost:8080/",
          "height": 34
        },
        "outputId": "b23e3ff8-56d9-43a0-b586-38e434ea6eef"
      },
      "source": [
        "l = [1,2,5,12,123]\n",
        "l.insert(3, \"string\")\n",
        "l.insert(5, \"string\")\n",
        "len(l)"
      ],
      "execution_count": 15,
      "outputs": [
        {
          "output_type": "execute_result",
          "data": {
            "text/plain": [
              "7"
            ]
          },
          "metadata": {
            "tags": []
          },
          "execution_count": 15
        }
      ]
    },
    {
      "cell_type": "code",
      "metadata": {
        "id": "CyUHjtN3RgTY",
        "colab_type": "code",
        "colab": {
          "base_uri": "https://localhost:8080/",
          "height": 34
        },
        "outputId": "360aeb33-3e02-479d-efd1-71e1c04bef55"
      },
      "source": [
        "l.index(\"string\")\n",
        "!pwd"
      ],
      "execution_count": 29,
      "outputs": [
        {
          "output_type": "stream",
          "text": [
            "/content\n"
          ],
          "name": "stdout"
        }
      ]
    }
  ]
}