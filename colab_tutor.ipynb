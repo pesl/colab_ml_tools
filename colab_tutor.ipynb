{
  "nbformat": 4,
  "nbformat_minor": 0,
  "metadata": {
    "colab": {
      "name": "colab_tutor.ipynb",
      "provenance": [],
      "collapsed_sections": [],
      "include_colab_link": true
    },
    "kernelspec": {
      "name": "python3",
      "display_name": "Python 3"
    }
  },
  "cells": [
    {
      "cell_type": "markdown",
      "metadata": {
        "id": "view-in-github",
        "colab_type": "text"
      },
      "source": [
        "<a href=\"https://colab.research.google.com/github/pesl/colab_ml_tools/blob/master/colab_tutor.ipynb\" target=\"_parent\"><img src=\"https://colab.research.google.com/assets/colab-badge.svg\" alt=\"Open In Colab\"/></a>"
      ]
    },
    {
      "cell_type": "markdown",
      "metadata": {
        "id": "cSW5hoyEa4L6",
        "colab_type": "text"
      },
      "source": [
        "## https://github.com/savankoradiya/Google-Colab-Tutorial"
      ]
    },
    {
      "cell_type": "code",
      "metadata": {
        "id": "IWUEPqX9Z3oy",
        "colab_type": "code",
        "colab": {}
      },
      "source": [
        "!cat /proc/meminfo"
      ],
      "execution_count": 0,
      "outputs": []
    },
    {
      "cell_type": "code",
      "metadata": {
        "id": "qzJLuL3EaMyE",
        "colab_type": "code",
        "colab": {}
      },
      "source": [
        "!cat /proc/cpuinfo"
      ],
      "execution_count": 0,
      "outputs": []
    },
    {
      "cell_type": "code",
      "metadata": {
        "id": "Hmuh7K42aRWs",
        "colab_type": "code",
        "colab": {}
      },
      "source": [
        "!pip3 install tensorflow==1.8\n"
      ],
      "execution_count": 0,
      "outputs": []
    },
    {
      "cell_type": "code",
      "metadata": {
        "id": "h0A7kKFyabFp",
        "colab_type": "code",
        "colab": {}
      },
      "source": [
        "!pip3 install keras\n"
      ],
      "execution_count": 0,
      "outputs": []
    },
    {
      "cell_type": "code",
      "metadata": {
        "id": "jRMNlXfdanW-",
        "colab_type": "code",
        "colab": {}
      },
      "source": [
        "!pip3 install torch torchvision"
      ],
      "execution_count": 0,
      "outputs": []
    },
    {
      "cell_type": "code",
      "metadata": {
        "id": "5iqhnftEasDQ",
        "colab_type": "code",
        "colab": {}
      },
      "source": [
        "!apt-get install -qq gcc-5 g++-5 -y\n",
        "!ln -s /usr/bin/gcc-5 \n",
        "!ln -s /usr/bin/g++-5 "
      ],
      "execution_count": 0,
      "outputs": []
    },
    {
      "cell_type": "code",
      "metadata": {
        "id": "YO6J4rXAbfPy",
        "colab_type": "code",
        "colab": {}
      },
      "source": [
        ""
      ],
      "execution_count": 0,
      "outputs": []
    },
    {
      "cell_type": "markdown",
      "metadata": {
        "id": "bHfPl1gHbiYn",
        "colab_type": "text"
      },
      "source": [
        "# Bayes "
      ]
    },
    {
      "cell_type": "code",
      "metadata": {
        "id": "FRMbU1YscIyZ",
        "colab_type": "code",
        "colab": {}
      },
      "source": [
        "import numpy as np"
      ],
      "execution_count": 0,
      "outputs": []
    },
    {
      "cell_type": "code",
      "metadata": {
        "id": "8aF6xGwMcKnY",
        "colab_type": "code",
        "colab": {}
      },
      "source": [
        "a = np.ones(5)"
      ],
      "execution_count": 0,
      "outputs": []
    },
    {
      "cell_type": "code",
      "metadata": {
        "id": "eppRrqH0cU2c",
        "colab_type": "code",
        "colab": {}
      },
      "source": [
        ""
      ],
      "execution_count": 0,
      "outputs": []
    }
  ]
}